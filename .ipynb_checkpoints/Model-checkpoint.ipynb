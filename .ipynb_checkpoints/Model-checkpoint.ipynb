{
  "cells": [
    {
      "cell_type": "markdown",
      "metadata": {
        "id": "lV4izRPYyIdQ"
      },
      "source": [
        "### Installing external libraries"
      ]
    },
    {
      "cell_type": "markdown",
      "metadata": {
        "id": "baSKIgsBr9Rp"
      },
      "source": [
        "### Import Libraries"
      ]
    },
    {
      "cell_type": "code",
      "source": [
        "!pip install torchprofile 1>/dev/null"
      ],
      "metadata": {
        "id": "BfPXRd_hAFUZ"
      },
      "execution_count": null,
      "outputs": []
    },
    {
      "cell_type": "code",
      "execution_count": null,
      "metadata": {
        "id": "J2Vzst9c5eHF"
      },
      "outputs": [],
      "source": [
        "from typing import Tuple\n",
        "\n",
        "import matplotlib.pyplot as plt\n",
        "import numpy as np\n",
        "import random\n",
        "import tensorflow.keras.utils\n",
        "import torch\n",
        "from torch import Tensor\n",
        "from torch import nn\n",
        "from torch.autograd import Variable\n",
        "from torch.optim import Adam\n",
        "import torch.utils.data as Data\n",
        "import seaborn as sns\n",
        "from datetime import datetime\n",
        "\n",
        "from torchprofile import profile_macs\n",
        "\n",
        "# from torchinfo import summary"
      ]
    },
    {
      "cell_type": "code",
      "execution_count": null,
      "metadata": {
        "id": "hvscNQ5Ykryi"
      },
      "outputs": [],
      "source": [
        "device = torch.device(\"cuda\" if torch.cuda.is_available() else \"cpu\")"
      ]
    },
    {
      "cell_type": "code",
      "execution_count": null,
      "metadata": {
        "id": "ijPScUv-qtl2"
      },
      "outputs": [],
      "source": [
        "def get_model_macs(model, inputs) -> int:\n",
        "    return profile_macs(model, inputs)\n",
        "\n",
        "\n",
        "def get_sparsity(tensor: torch.Tensor) -> float:\n",
        "    \"\"\"\n",
        "    calculate the sparsity of the given tensor\n",
        "        sparsity = #zeros / #elements = 1 - #nonzeros / #elements\n",
        "    \"\"\"\n",
        "    return 1 - float(tensor.count_nonzero()) / tensor.numel()\n",
        "\n",
        "\n",
        "def get_model_sparsity(model: nn.Module) -> float:\n",
        "    \"\"\"\n",
        "    calculate the sparsity of the given model\n",
        "        sparsity = #zeros / #elements = 1 - #nonzeros / #elements\n",
        "    \"\"\"\n",
        "    num_nonzeros, num_elements = 0, 0\n",
        "    for param in model.parameters():\n",
        "        num_nonzeros += param.count_nonzero()\n",
        "        num_elements += param.numel()\n",
        "    return 1 - float(num_nonzeros) / num_elements\n",
        "\n",
        "def get_num_parameters(model: nn.Module, count_nonzero_only=False) -> int:\n",
        "    \"\"\"\n",
        "    calculate the total number of parameters of model\n",
        "    :param count_nonzero_only: only count nonzero weights\n",
        "    \"\"\"\n",
        "    num_counted_elements = 0\n",
        "    for param in model.parameters():\n",
        "        if count_nonzero_only:\n",
        "            num_counted_elements += param.count_nonzero()\n",
        "        else:\n",
        "            num_counted_elements += param.numel()\n",
        "    return num_counted_elements\n",
        "\n",
        "\n",
        "def get_model_size(model: nn.Module, data_width=32, count_nonzero_only=False) -> int:\n",
        "    \"\"\"\n",
        "    calculate the model size in bits\n",
        "    :param data_width: #bits per element\n",
        "    :param count_nonzero_only: only count nonzero weights\n",
        "    \"\"\"\n",
        "    return get_num_parameters(model, count_nonzero_only) * data_width\n",
        "\n",
        "Byte = 8\n",
        "KiB = 1024 * Byte\n",
        "MiB = 1024 * KiB\n",
        "GiB = 1024 * MiB"
      ]
    },
    {
      "cell_type": "code",
      "execution_count": null,
      "metadata": {
        "colab": {
          "base_uri": "https://localhost:8080/"
        },
        "id": "Avk_aEfh3-Pi",
        "outputId": "652dc5d5-ed44-431b-cc3e-7a99188b870a"
      },
      "outputs": [
        {
          "output_type": "execute_result",
          "data": {
            "text/plain": [
              "<torch._C.Generator at 0x7f2023703ef0>"
            ]
          },
          "metadata": {},
          "execution_count": 10
        }
      ],
      "source": [
        "\n",
        "\n",
        "# Set Random seed:\n",
        "seed = 42\n",
        "\n",
        "torch.manual_seed(seed)\n",
        "torch.cuda.manual_seed(seed)\n",
        "np.random.seed(seed)\n",
        "random.seed(seed)\n",
        "\n",
        "# torch.backends.cudnn.deterministic = True\n",
        "# torch.backends.cudnn.benchmark = False\n",
        "\n",
        "def seed_worker(worker_id):\n",
        "    worker_seed = torch.initial_seed() % 2**32\n",
        "    np.random.seed(worker_seed)\n",
        "    random.seed(worker_seed)\n",
        "\n",
        "gen = torch.Generator()\n",
        "gen.manual_seed(seed)"
      ]
    },
    {
      "cell_type": "markdown",
      "metadata": {
        "id": "VHDR5nmcsDgp"
      },
      "source": [
        "### Model Parameters & Hyperparameters"
      ]
    },
    {
      "cell_type": "code",
      "execution_count": null,
      "metadata": {
        "id": "s3fFRid6-T7u"
      },
      "outputs": [],
      "source": [
        "\n",
        "\n",
        "#Model Parameters & Hyperparameters\n",
        "log_run = False\n",
        "\n",
        "params = dict(\n",
        "    seed = seed,\n",
        "    epochs = 10,\n",
        "    batch_size = 256,\n",
        "    lr = 0.0001,\n",
        "    name = \"RTN_norm\",\n",
        "    description = \"\"\"Try the concat model with R=1/2 and with fading.\"\"\",\n",
        "    k = 7,\n",
        "    n = 21,\n",
        "    A = 3.0,\n",
        "    train_num = 1_000_000,\n",
        "    val_num = 10_000,\n",
        "    test_num =  1_000_000,\n",
        "    fading = False,\n",
        "    fading_sigma = 0.3,\n",
        "    n_pilots = 0,\n",
        "    estimation_network = \"not required\"\n",
        ")\n",
        "\n",
        "params[\"M\"] = 2 ** params[\"k\"] \n",
        "params[\"R\"] = params[\"k\"] / params[\"n\"] \n"
      ]
    },
    {
      "cell_type": "markdown",
      "metadata": {
        "id": "uh-Y5wZ_sKN4"
      },
      "source": [
        "### Model Structure"
      ]
    },
    {
      "cell_type": "markdown",
      "metadata": {
        "id": "KnmOTh3yc_uC"
      },
      "source": [
        "#### RTN norm"
      ]
    },
    {
      "cell_type": "code",
      "execution_count": null,
      "metadata": {
        "id": "rER5Dc5JdCNn"
      },
      "outputs": [],
      "source": [
        "\n",
        "\n",
        "#RTN With norm\n",
        "class RTNNorm(nn.Module):\n",
        "    def __init__(self, in_channels: int, compressed_dim: int, fading: bool = False, f_sigma: float = 0.3) -> None:\n",
        "      super(RTNNorm, self).__init__()\n",
        "      self.in_channels = in_channels\n",
        "      self.compressed_dim = compressed_dim\n",
        "      self.fading = fading\n",
        "      self.f_sigma = f_sigma\n",
        "\n",
        "      self.encoder = self.build_encoder(self.in_channels, self.compressed_dim)\n",
        "      \n",
        "      self.decoder_input_normalizer = nn.LayerNorm(self.compressed_dim)\n",
        "      \n",
        "      self.decoder = self.build_decoder(self.compressed_dim, self.in_channels)\n",
        "\n",
        "    def build_encoder(self, input_shape: int = 128, output_shape: int = 21) -> nn.Sequential:\n",
        "      return nn.Sequential(\n",
        "            nn.Linear(input_shape, 100),\n",
        "            nn.BatchNorm1d(100),\n",
        "            nn.Linear(100, output_shape),\n",
        "            nn.BatchNorm1d(output_shape),\n",
        "            )\n",
        "\n",
        "    def build_decoder(self, input_shape: int = 21, output_shape: int = 128) -> nn.Sequential:\n",
        "      return  nn.Sequential(\n",
        "              nn.Linear(input_shape, 100),\n",
        "              nn.LayerNorm(100),\n",
        "              nn.Linear(100, output_shape),\n",
        "              nn.LayerNorm(output_shape)\n",
        "              )\n",
        "    \n",
        "    def mixedAWGN(self, x: Tensor, A: float) -> Tensor:\n",
        "      shape = x.size()\n",
        "      noise = torch.randn(shape, device = x.device)\n",
        "\n",
        "      x_channel = torch.sigmoid(x) * A\n",
        "      \n",
        "      if self.fading:\n",
        "        m3 = -self.f_sigma ** 2 / 2\n",
        "        f_true = torch.empty(shape, device = x.device).log_normal_(m3, self.f_sigma)\n",
        "        x_out = x_channel + (noise / f_true)\n",
        "      else:\n",
        "        x_out = x_channel + noise\n",
        "\n",
        "      return x_out\n",
        "\n",
        "    def get_constellation_points(self, x: Tensor, A: float) -> Tensor:\n",
        "      encoded = self.encoder(x)\n",
        "      x_channel = torch.sigmoid(encoded) * A\n",
        "      return x_channel\n",
        "\n",
        "    def forward(self, x: Tensor, A: float = 2.9) -> Tensor:\n",
        "      encoded = self.encoder(x)\n",
        "\n",
        "      signal = self.mixedAWGN(encoded, A)\n",
        "      normalized_signal = self.decoder_input_normalizer(signal)\n",
        "\n",
        "      decoded = self.decoder(normalized_signal)\n",
        "\n",
        "      return decoded"
      ]
    },
    {
      "cell_type": "markdown",
      "metadata": {
        "id": "l3E5iKmsCbqL"
      },
      "source": [
        "#### Save Best"
      ]
    },
    {
      "cell_type": "code",
      "execution_count": null,
      "metadata": {
        "id": "F9MwyPVSCc28"
      },
      "outputs": [],
      "source": [
        "\n",
        "\n",
        "#Save Best\n",
        "class SaveBestModel:\n",
        "    def __init__(self, best_valid_loss: float =float('inf'), name: str = \"best_model\") -> None:\n",
        "        self.best_valid_loss = best_valid_loss\n",
        "        self.name = name\n",
        "        \n",
        "    def __call__(self, current_valid_loss: float, epoch: int, model: nn.Module, optimizer, criterion) -> None:\n",
        "        if current_valid_loss < self.best_valid_loss:\n",
        "            self.best_valid_loss = current_valid_loss\n",
        "            print(f\"    Best validation loss: {self.best_valid_loss} - Saving best model for epoch: {epoch}\")\n",
        "            torch.save(model.state_dict(), f\"./{self.name}.pth\")"
      ]
    },
    {
      "cell_type": "markdown",
      "metadata": {
        "id": "UnEuRw0AsU9O"
      },
      "source": [
        "### Dataset"
      ]
    },
    {
      "cell_type": "code",
      "execution_count": null,
      "metadata": {
        "id": "trKsKw7Ud09V"
      },
      "outputs": [],
      "source": [
        "# #Data Loader\n",
        "# class CustomDataLoader:\n",
        "#   def __init__(self, *tensors: Tensor, batch_size: int = None, shuffle: bool = False) -> None:\n",
        "#     self.tensors = tensors\n",
        "#     self.n_samples = tensors[0].shape[0]\n",
        "#     self.batch_size = batch_size if batch_size is not None else self.n_samples\n",
        "#     self.shuffle = shuffle\n",
        "     \n",
        "#     self.n_batches, remainder = divmod(self.n_samples, self.batch_size)\n",
        "#     self.n_batches += (remainder > 0)\n",
        "#     self.indices = torch.arange(self.n_samples)\n",
        "\n",
        "#   def __len__(self):\n",
        "#       return self.n_batches\n",
        "\n",
        "#   def __iter__(self):\n",
        "#     if self.shuffle:\n",
        "#       self.indices = torch.randperm(self.n_samples)\n",
        "#     self.i = 0\n",
        "#     return self\n",
        "\n",
        "#   def __next__(self):\n",
        "#     if self.i >= self.n_samples:\n",
        "#       raise StopIteration\n",
        "\n",
        "#     batch_indices = self.indices[self.i : self.i + self.batch_size] \n",
        "#     batch = tuple(t[batch_indices] for t in self.tensors)\n",
        "#     self.i += self.batch_size\n",
        "#     return batch\n",
        "\n",
        "from torch.utils.data import Dataset\n",
        "class CustomLoader(Dataset):\n",
        "\n",
        "  def __init__(self, X,Y, target_transform=None):\n",
        "    self.data = X\n",
        "    self.label = Y\n",
        "    self.transform = target_transform\n",
        "  def __len__(self):\n",
        "    return len(self.data)\n",
        "  \n",
        "  def __getitem__(self, idx):\n",
        "\n",
        "    data, label = self.data[idx], self.label[idx]\n",
        "\n",
        "    if self.transform:\n",
        "      data, label = self.transform(data), sself.transform(label)\n",
        "    return data, label"
      ]
    },
    {
      "cell_type": "code",
      "execution_count": null,
      "metadata": {
        "id": "MAUHKzaRsa5h"
      },
      "outputs": [],
      "source": [
        "#Data Generation\n",
        "# train_labels = torch.randint(params[\"M\"], (params[\"train_num\"],))\n",
        "# train_data = torch.eye(params[\"M\"]).index_select(dim=0, index=train_labels)#[:, None, :]\n",
        "\n",
        "# val_labels = torch.randint(params[\"M\"], (params[\"val_num\"],))#.to(device)\n",
        "# val_data = torch.eye(params[\"M\"]).index_select(dim=0, index=val_labels)#.to(device)#[:, None, :]\n",
        "\n",
        "# test_labels = torch.randint(params[\"M\"], (params[\"test_num\"],))\n",
        "# test_data = torch.eye(params[\"M\"]).index_select(dim=0, index=test_labels)#[:, None, :]\n",
        "\n",
        "# train_loader = CustomDataLoader(train_data, train_labels, \n",
        "#                                batch_size = params[\"batch_size\"], \n",
        "#                                shuffle = True)\n",
        "\n",
        "# test_loader = CustomDataLoader(test_data, test_labels, \n",
        "#                               batch_size = 100_000)\n",
        "\n",
        "\n",
        "from sklearn.model_selection import train_test_split\n",
        "\n",
        "\n",
        "labels = torch.randint(params[\"M\"], (params[\"train_num\"]+params[\"val_num\"],))\n",
        "data = torch.eye(params[\"M\"]).index_select(dim=0, index=labels)#[:, None, :]\n",
        "\n",
        "\n",
        "\n",
        "\n",
        "X_train, X_test, y_train, y_test = train_test_split(data, labels, test_size=0.33, random_state=42)\n",
        "training_data = CustomLoader(X_train, y_train)\n",
        "test_data = CustomLoader(X_test, y_test)\n",
        "\n",
        "from torch.utils.data import DataLoader\n",
        "\n",
        "train_dataloader = DataLoader(training_data, batch_size=params['batch_size'], shuffle=True)\n",
        "test_dataloader = DataLoader(test_data, batch_size=params['batch_size'], shuffle=True)"
      ]
    },
    {
      "cell_type": "markdown",
      "metadata": {
        "id": "VZxa2QrF1YXV"
      },
      "source": [
        "### Training"
      ]
    },
    {
      "cell_type": "code",
      "execution_count": null,
      "metadata": {
        "colab": {
          "base_uri": "https://localhost:8080/"
        },
        "id": "Wrd6jdRytmnf",
        "outputId": "e224191a-3500-4cfd-e923-6de064c62e81"
      },
      "outputs": [
        {
          "output_type": "stream",
          "name": "stdout",
          "text": [
            "torch.Size([256, 128]) torch.Size([256])\n"
          ]
        }
      ],
      "source": [
        "x, y = next(iter(train_dataloader))\n",
        "print(x.shape,y.shape)"
      ]
    },
    {
      "cell_type": "markdown",
      "metadata": {
        "id": "LTMW1qjXNqOE"
      },
      "source": [
        "#### Setup model, loss, and optimizer"
      ]
    },
    {
      "cell_type": "code",
      "execution_count": null,
      "metadata": {
        "id": "Um_3LM4CF3kx"
      },
      "outputs": [],
      "source": [
        "#Setup model, loss, and optimizer\n",
        "model = RTNNorm(in_channels = params[\"M\"], compressed_dim = params[\"n\"], fading = params[\"fading\"], f_sigma = params[\"fading_sigma\"]).to(device)\n",
        "loss_fn = nn.CrossEntropyLoss()\n",
        "optimizer = Adam(model.parameters(),\n",
        "                 lr=params[\"lr\"])\n",
        "save_best = SaveBestModel(name = params['name'])\n",
        "\n",
        "if log_run:\n",
        "  run[\"config/model\"] = type(model).__name__\n",
        "  run[\"config/loss_fn\"] = type(loss_fn).__name__\n",
        "  run[\"config/optimizer\"] = type(optimizer).__name__"
      ]
    },
    {
      "cell_type": "code",
      "execution_count": null,
      "metadata": {
        "id": "lFOTzKB2GART"
      },
      "outputs": [],
      "source": [
        "# Saving model architecture to .txt\n",
        "with open(f\"./{params['name']}_structure.txt\", \"w\") as f:\n",
        "    f.write(str(model))\n",
        "\n",
        "if log_run:\n",
        "  run[f\"io_files/artifacts/{params['name']}_structure\"].upload(\n",
        "      f\"./{params['name']}_structure.txt\"\n",
        "  )"
      ]
    },
    {
      "cell_type": "markdown",
      "metadata": {
        "id": "eFaY-dNfNwiV"
      },
      "source": [
        "#### Training Cycle"
      ]
    },
    {
      "cell_type": "code",
      "execution_count": null,
      "metadata": {
        "colab": {
          "base_uri": "https://localhost:8080/"
        },
        "id": "JdmpkYRuQQyg",
        "outputId": "60e149bc-034b-40a2-ef68-221d0722d2a7"
      },
      "outputs": [
        {
          "output_type": "stream",
          "name": "stdout",
          "text": [
            "Epoch 1/10\n",
            "2023-05-16 19:19:53.696171\n",
            "2644/2644 [==============================] - 20s 8ms/batch - loss: 2.6337 - val_loss: 2.1444\n",
            "    Best validation loss: 2.1444356441497803 - Saving best model for epoch: 1\n",
            "Epoch 2/10\n",
            "2023-05-16 19:20:13.536798\n",
            "2644/2644 [==============================] - 16s 6ms/batch - loss: 1.8859 - val_loss: 1.6431\n",
            "    Best validation loss: 1.6430994272232056 - Saving best model for epoch: 2\n",
            "Epoch 3/10\n",
            "2023-05-16 19:20:29.339533\n",
            "2644/2644 [==============================] - 18s 7ms/batch - loss: 1.4122 - val_loss: 1.2221\n",
            "    Best validation loss: 1.2220995426177979 - Saving best model for epoch: 3\n",
            "Epoch 4/10\n",
            "2023-05-16 19:20:46.956815\n",
            "2644/2644 [==============================] - 16s 6ms/batch - loss: 1.0407 - val_loss: 0.8855\n",
            "    Best validation loss: 0.8854809403419495 - Saving best model for epoch: 4\n",
            "Epoch 5/10\n",
            "2023-05-16 19:21:03.415815\n",
            "2644/2644 [==============================] - 16s 6ms/batch - loss: 0.7600 - val_loss: 0.6481\n",
            "    Best validation loss: 0.6480781435966492 - Saving best model for epoch: 5\n",
            "Epoch 6/10\n",
            "2023-05-16 19:21:19.096575\n",
            "2644/2644 [==============================] - 17s 7ms/batch - loss: 0.5520 - val_loss: 0.4520\n",
            "    Best validation loss: 0.4520214796066284 - Saving best model for epoch: 6\n",
            "Epoch 7/10\n",
            "2023-05-16 19:21:36.593398\n",
            "2644/2644 [==============================] - 16s 6ms/batch - loss: 0.4041 - val_loss: 0.3426\n",
            "    Best validation loss: 0.3425559401512146 - Saving best model for epoch: 7\n",
            "Epoch 8/10\n",
            "2023-05-16 19:21:52.529641\n",
            "2644/2644 [==============================] - 16s 6ms/batch - loss: 0.2982 - val_loss: 0.2524\n",
            "    Best validation loss: 0.2523907721042633 - Saving best model for epoch: 8\n",
            "Epoch 9/10\n",
            "2023-05-16 19:22:08.283176\n",
            "2644/2644 [==============================] - 16s 6ms/batch - loss: 0.2231 - val_loss: 0.1892\n",
            "    Best validation loss: 0.18918520212173462 - Saving best model for epoch: 9\n",
            "Epoch 10/10\n",
            "2023-05-16 19:22:24.447924\n",
            "2644/2644 [==============================] - 16s 6ms/batch - loss: 0.1692 - val_loss: 0.1447\n",
            "    Best validation loss: 0.14467208087444305 - Saving best model for epoch: 10\n"
          ]
        }
      ],
      "source": [
        "#Training Cycle\n",
        "\n",
        "for epoch in range(1, params[\"epochs\"] + 1):\n",
        "  n_batches = len(train_dataloader)\n",
        "  print(f\"Epoch {epoch}/{params['epochs']}\")\n",
        "  progress_bar = tensorflow.keras.utils.Progbar(target=n_batches, unit_name=\"batch\")\n",
        "  print(datetime.now())\n",
        "  for step, (x, y) in enumerate(train_dataloader):\n",
        "    x,y = x.to(device),y.to(device)\n",
        "    x_decoded = model(x, params[\"A\"])\n",
        "    loss = loss_fn(x_decoded, y)\n",
        "\n",
        "    optimizer.zero_grad() \n",
        "    loss.backward() \n",
        "    optimizer.step() \n",
        "\n",
        "    progress_bar.update(step, values=[(\"loss\", loss.item())])\n",
        "\n",
        "    if log_run:\n",
        "      run[\"training/batch/train_loss\"].log(loss)\n",
        "    \n",
        "  with torch.no_grad():\n",
        "    for _, (val_data,val_labels) in enumerate(test_dataloader):\n",
        "      # print(type(val_data))\n",
        "      val_data, val_labels = val_data.to(device), val_labels.to(device)\n",
        "      val_data_decoded = model(val_data, params[\"A\"])\n",
        "      val_loss = loss_fn(val_data_decoded, val_labels)\n",
        "\n",
        "    progress_bar.update(n_batches, values=[(\"val_loss\", val_loss.item())])\n",
        "    save_best(val_loss, epoch, model, optimizer, loss_fn) \n",
        "\n",
        "    if log_run:\n",
        "      run[\"training/batch/val_loss\"].log(val_loss)  \n",
        "\n",
        "\n",
        "# Save best model weight in Neptune run:\n",
        "if log_run:\n",
        "  run[f\"io_files/artifacts/{params['name']}\"].upload(\n",
        "      f\"./{params['name']}.pth\"\n",
        "  )"
      ]
    },
    {
      "cell_type": "code",
      "execution_count": null,
      "metadata": {
        "id": "6Ry3EJ78q6sn",
        "colab": {
          "base_uri": "https://localhost:8080/"
        },
        "outputId": "dbf0308b-5af1-4455-fdad-4611e823ff8b"
      },
      "outputs": [
        {
          "output_type": "stream",
          "name": "stdout",
          "text": [
            "dense model has size=0.12 MiB\n"
          ]
        }
      ],
      "source": [
        "dense_model_size = get_model_size(model)\n",
        "print(f\"dense model has size={dense_model_size/MiB:.2f} MiB\")"
      ]
    },
    {
      "cell_type": "markdown",
      "metadata": {
        "id": "6KNBmNXoCG1P"
      },
      "source": [
        "### Testing"
      ]
    },
    {
      "cell_type": "code",
      "execution_count": null,
      "metadata": {
        "id": "0GLckZl7LZsP",
        "colab": {
          "base_uri": "https://localhost:8080/"
        },
        "outputId": "3be22698-43c3-4630-ec30-3352d5ce0684"
      },
      "outputs": [
        {
          "output_type": "execute_result",
          "data": {
            "text/plain": [
              "<All keys matched successfully>"
            ]
          },
          "metadata": {},
          "execution_count": 22
        }
      ],
      "source": [
        "#Testing\n",
        "load_best = torch.load(f\"./{params['name']}.pth\")\n",
        "model.load_state_dict(load_best)"
      ]
    },
    {
      "cell_type": "code",
      "execution_count": null,
      "metadata": {
        "id": "jS9Ll226_Qyx",
        "colab": {
          "base_uri": "https://localhost:8080/"
        },
        "outputId": "ab59f61d-0130-4bbb-da16-968ac165acc3"
      },
      "outputs": [
        {
          "output_type": "stream",
          "name": "stdout",
          "text": [
            "peak intensity =  1.00 | BLER = 0.2379376 | BER = 0.0380744\n",
            "peak intensity =  2.00 | BLER = 0.0384470 | BER = 0.0055851\n",
            "peak intensity =  3.00 | BLER = 0.0008520 | BER = 0.0001218\n",
            "peak intensity =  4.00 | BLER = 0.0000040 | BER = 0.0000006\n",
            "peak intensity =  5.00 | BLER = 0.0000000 | BER = 0.0000000\n",
            "peak intensity =  6.00 | BLER = 0.0000000 | BER = 0.0000000\n",
            "peak intensity =  7.00 | BLER = 0.0000000 | BER = 0.0000000\n",
            "peak intensity =  8.00 | BLER = 0.0000000 | BER = 0.0000000\n",
            "peak intensity =  9.00 | BLER = 0.0000000 | BER = 0.0000000\n",
            "peak intensity = 10.00 | BLER = 0.0000000 | BER = 0.0000000\n"
          ]
        }
      ],
      "source": [
        "power = torch.arange(1, 11)\n",
        "EpNo = 10 * torch.log10(power ** 2 / 4)\n",
        "BLER = torch.zeros_like(power).float()\n",
        "BER = torch.zeros_like(power).float()\n",
        "\n",
        "with torch.no_grad():\n",
        "  for i, A in enumerate(power):\n",
        "    for x, y in test_dataloader:\n",
        "      x, y= x.to(device), y.to(device)\n",
        "      x_decoded = model(x, A)\n",
        "      y_pred = torch.argmax(x_decoded, axis=1)\n",
        "\n",
        "      error = torch.ne(y, y_pred).sum()\n",
        "      BLER[i] += error.item() / params[\"test_num\"]\n",
        "    \n",
        "    BER[i] = 1 - (1 - BLER[i]) ** (1/params[\"k\"])\n",
        "\n",
        "    if log_run:\n",
        "      run[\"testing/peak_intensity\"].log(A)\n",
        "      run[\"testing/EpNo(dB)\"].log(EpNo[i])\n",
        "      run[\"testing/BLER\"].log(BLER[i])\n",
        "      run[\"testing/BER\"].log(BER[i])\n",
        "    print(f'peak intensity = {power[i]:5.2f} | BLER = {BLER[i]:.7f} | BER = {BER[i]:.7f}')"
      ]
    },
    {
      "cell_type": "code",
      "execution_count": null,
      "metadata": {
        "id": "nfb_tiULJuAE",
        "colab": {
          "base_uri": "https://localhost:8080/",
          "height": 874
        },
        "outputId": "c3e1c78b-1a21-4678-dd99-6982d5a1ac6b"
      },
      "outputs": [
        {
          "output_type": "display_data",
          "data": {
            "text/plain": [
              "<Figure size 1500x1000 with 1 Axes>"
            ],
            "image/png": "[encoded data removed]"
          },
          "metadata": {}
        }
      ],
      "source": [
        "\n",
        "\n",
        "fig, ax = plt.subplots(figsize=(15, 10))\n",
        "ax.plot(EpNo.cpu(), BER.cpu(), 'bo-', label=f'Autoencoder({params[\"n\"]},{params[\"k\"]})')\n",
        "\n",
        "ax.set_title('BER vs. EpNo (dB)', fontsize=15)\n",
        "ax.set_xlabel('EpNo (dB)')\n",
        "ax.set_ylabel('Bit Error Rate')\n",
        "\n",
        "plt.yscale('log')\n",
        "plt.grid(True, which=\"both\", linestyle='--')\n",
        "plt.legend(loc='upper right', ncol=1)\n",
        "plt.xticks(np.arange(-6, max(EpNo)))\n",
        "\n",
        "if log_run:\n",
        "  run[\"val/BER_Curve\"].upload(fig)\n",
        "\n",
        "plt.show()"
      ]
    }
  ],
  "metadata": {
    "accelerator": "GPU",
    "colab": {
      "collapsed_sections": [
        "lV4izRPYyIdQ",
        "baSKIgsBr9Rp",
        "HR_-38HKyoDX",
        "uh-Y5wZ_sKN4",
        "uz9b-fqMBRic",
        "No4ifmNKBU6s",
        "l3E5iKmsCbqL",
        "UnEuRw0AsU9O",
        "LTMW1qjXNqOE"
      ],
      "provenance": [],
      "gpuType": "T4"
    },
    "gpuClass": "standard",
    "kernelspec": {
      "display_name": "Python 3",
      "name": "python3"
    },
    "language_info": {
      "name": "python"
    }
  },
  "nbformat": 4,
  "nbformat_minor": 0
}